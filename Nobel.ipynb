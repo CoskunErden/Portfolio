{
  "nbformat": 4,
  "nbformat_minor": 0,
  "metadata": {
    "colab": {
      "provenance": []
    },
    "kernelspec": {
      "name": "python3",
      "display_name": "Python 3"
    },
    "language_info": {
      "name": "python"
    }
  },
  "cells": [
    {
      "cell_type": "code",
      "source": [
        "\n",
        "!pip install dash"
      ],
      "metadata": {
        "id": "fBRA1d3-XBJe"
      },
      "execution_count": null,
      "outputs": []
    },
    {
      "cell_type": "code",
      "source": [
        "import pandas as pd\n",
        "import plotly.express as px"
      ],
      "metadata": {
        "id": "KAqqBBdTScIs"
      },
      "execution_count": null,
      "outputs": []
    },
    {
      "cell_type": "code",
      "execution_count": null,
      "metadata": {
        "id": "m8O6pk7BSMjw"
      },
      "outputs": [],
      "source": [
        "from google.colab import drive\n",
        "\n",
        "# Mount Google Drive\n",
        "drive.mount('/content/drive')\n"
      ]
    },
    {
      "cell_type": "code",
      "source": [
        "# Read the CSV file from Google Drive\n",
        "data = pd.read_csv('/content/drive/MyDrive/Colab_files/nobel_latest.csv')\n",
        "\n",
        "# Print the first rows\n",
        "print(data.head())\n"
      ],
      "metadata": {
        "id": "loDTFlnNSXpj"
      },
      "execution_count": null,
      "outputs": []
    },
    {
      "cell_type": "code",
      "source": [
        "print(data[data['Year']==2020])"
      ],
      "metadata": {
        "id": "5W2XvGFB0HJr"
      },
      "execution_count": null,
      "outputs": []
    },
    {
      "cell_type": "code",
      "source": [
        "data.info()"
      ],
      "metadata": {
        "id": "6zJMNu7KS0et"
      },
      "execution_count": null,
      "outputs": []
    },
    {
      "cell_type": "code",
      "source": [
        "data.describe()"
      ],
      "metadata": {
        "id": "MP1mxpxoTUIk"
      },
      "execution_count": null,
      "outputs": []
    },
    {
      "cell_type": "code",
      "source": [
        "# Select non-numeric (object) columns\n",
        "non_numeric_columns = data.select_dtypes(include='object')\n",
        "\n",
        "# Display the selected non-numeric columns\n",
        "print(non_numeric_columns)\n"
      ],
      "metadata": {
        "id": "fC2ZRxZ_USon"
      },
      "execution_count": null,
      "outputs": []
    },
    {
      "cell_type": "code",
      "source": [
        "for column in non_numeric_columns.columns:\n",
        "  print(data[column].value_counts())"
      ],
      "metadata": {
        "id": "7hT5WUeEUvo3"
      },
      "execution_count": null,
      "outputs": []
    },
    {
      "cell_type": "code",
      "source": [
        "for column in non_numeric_columns.columns:\n",
        "  print(data[column].unique())"
      ],
      "metadata": {
        "id": "a2cU-EdhV1Wo"
      },
      "execution_count": null,
      "outputs": []
    },
    {
      "cell_type": "code",
      "source": [
        "for column in non_numeric_columns.columns:\n",
        "  print(column, data[column].nunique())"
      ],
      "metadata": {
        "id": "TmKTCLhRV38g"
      },
      "execution_count": null,
      "outputs": []
    },
    {
      "cell_type": "markdown",
      "source": [
        "#Interactive Map for Winners by Country"
      ],
      "metadata": {
        "id": "rlxZ9EUKXTH7"
      }
    },
    {
      "cell_type": "code",
      "source": [
        "# Aggregate the counts of winners per country\n",
        "winners_by_country = data['Birth_Country'].value_counts().reset_index()\n",
        "winners_by_country.columns = ['Country', 'Count']\n",
        "print(winners_by_country)"
      ],
      "metadata": {
        "id": "Ku8iXxMpXWIT"
      },
      "execution_count": null,
      "outputs": []
    },
    {
      "cell_type": "code",
      "source": [
        "import plotly.express as px\n",
        "\n",
        "# Create an interactive map using Plotly Express\n",
        "fig = px.choropleth(winners_by_country,\n",
        "                    locations='Country',\n",
        "                    locationmode='country names',\n",
        "                    color='Count',\n",
        "                    hover_name='Country',\n",
        "                    projection='natural earth',\n",
        "                    color_continuous_scale='Spectral')  # Choose a different color scale\n",
        "\n",
        "# Customize the map layout\n",
        "fig.update_layout(title='Nobel Prize Winners by Country')\n",
        "\n",
        "# Show the interactive map\n",
        "fig.show()\n"
      ],
      "metadata": {
        "id": "BeKTH2utYlf1"
      },
      "execution_count": null,
      "outputs": []
    },
    {
      "cell_type": "code",
      "source": [
        "# Aggregate the counts of prizes by category\n",
        "# Aggregate the counts of prizes by country and category\n",
        "prizes_by_country_category = data.groupby(['Birth_Country', 'Category']).size().reset_index(name='Count')\n",
        "prizes_by_country_category\n"
      ],
      "metadata": {
        "id": "KgW9RDRMaunP"
      },
      "execution_count": null,
      "outputs": []
    },
    {
      "cell_type": "markdown",
      "source": [
        "Interactive graph for the average age of winners each year"
      ],
      "metadata": {
        "id": "T154zXy41h63"
      }
    },
    {
      "cell_type": "code",
      "source": [
        "# Convert the birth date to datetime format, handling errors\n",
        "data['Birth_Date'] = pd.to_datetime(data['Birth_Date'], errors='coerce')\n",
        "\n",
        "# Drop rows with NaN values in the 'Birth_Date' column\n",
        "data = data.dropna(subset=['Birth_Date'])\n",
        "\n",
        "# Calculate the age of winners when they won the prize\n",
        "data['Age'] = data['Year'] - data['Birth_Date'].dt.year\n",
        "print(data.head())\n",
        "print(max(data['Age'] ))\n",
        "\n",
        "# Calculate the average age of winners per year\n",
        "average_age = data.groupby('Year')['Age'].mean().reset_index()\n",
        "print(average_age.head())\n",
        "\n",
        "# Create an interactive line plot using Plotly Express\n",
        "fig = px.line(average_age, x='Year', y='Age', title='Average Age of Nobel Prize Winners over the Years')\n",
        "\n",
        "# Add labels and formatting to the plot\n",
        "fig.update_layout(\n",
        "        xaxis_title='Year',\n",
        "        yaxis_title='Average Age',\n",
        "        plot_bgcolor='white',\n",
        "        hovermode='x',\n",
        "    )\n",
        "\n",
        "# Display the interactive graph\n",
        "fig.show()\n"
      ],
      "metadata": {
        "id": "QGIB3PB2jJb3"
      },
      "execution_count": null,
      "outputs": []
    },
    {
      "cell_type": "markdown",
      "source": [
        "Interactive graph for the female - male ratio"
      ],
      "metadata": {
        "id": "Z37gmCtI1hQ7"
      }
    },
    {
      "cell_type": "code",
      "source": [
        "# Calculate the count of females and males per year\n",
        "gender_count = data.groupby(['Year', 'Gender'])['Laureate_Id'].count().unstack().fillna(0)\n",
        "\n",
        "# Calculate the ratio of females to males per year\n",
        "gender_ratio = gender_count['female'] / gender_count['male']\n",
        "\n",
        "# Create an interactive line plot using Plotly Express\n",
        "fig = px.line(x=gender_ratio.index, y=gender_ratio.values, title='Ratio of Female to Male Nobel Prize Winners over the Years')\n",
        "\n",
        "# Add labels and formatting to the plot\n",
        "fig.update_layout(\n",
        "    xaxis_title='Year',\n",
        "    yaxis_title='Female-to-Male Ratio',\n",
        "    plot_bgcolor='white',\n",
        "    hovermode='x',\n",
        ")\n",
        "\n",
        "# Display the interactive graph\n",
        "fig.show()\n"
      ],
      "metadata": {
        "id": "YSRNHYRIxDWu"
      },
      "execution_count": null,
      "outputs": []
    }
  ]
}