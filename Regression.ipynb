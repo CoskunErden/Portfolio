{
  "nbformat": 4,
  "nbformat_minor": 0,
  "metadata": {
    "colab": {
      "provenance": []
    },
    "kernelspec": {
      "name": "python3",
      "display_name": "Python 3"
    },
    "language_info": {
      "name": "python"
    }
  },
  "cells": [
    {
      "cell_type": "code",
      "source": [
        "import pandas as pd\n",
        "import seaborn as sns\n",
        "import matplotlib.pyplot as plt\n",
        "from sklearn.model_selection import train_test_split, cross_val_score, RandomizedSearchCV\n",
        "from sklearn.preprocessing import StandardScaler\n",
        "from sklearn.linear_model import LinearRegression, Ridge, Lasso\n",
        "from sklearn.tree import DecisionTreeRegressor\n",
        "from sklearn.ensemble import GradientBoostingRegressor, RandomForestRegressor\n",
        "from sklearn.svm import SVR\n",
        "from sklearn.neural_network import MLPRegressor\n",
        "from sklearn.ensemble import RandomForestRegressor\n",
        "from sklearn.metrics import mean_squared_error, r2_score\n",
        "import numpy as np\n",
        "import scipy.stats as stats"
      ],
      "metadata": {
        "id": "3Wfi8w-1pFA5"
      },
      "execution_count": 8,
      "outputs": []
    },
    {
      "cell_type": "code",
      "execution_count": 2,
      "metadata": {
        "id": "PrOYZ-Qimdas",
        "colab": {
          "base_uri": "https://localhost:8080/"
        },
        "outputId": "de607ae2-2bf9-484c-f363-a0b873d098fa"
      },
      "outputs": [
        {
          "output_type": "stream",
          "name": "stdout",
          "text": [
            "Mounted at /content/drive\n"
          ]
        }
      ],
      "source": [
        "from google.colab import drive\n",
        "\n",
        "# Mount Google Drive\n",
        "drive.mount('/content/drive')"
      ]
    },
    {
      "cell_type": "code",
      "source": [
        "# Read the CSV file from Google Drive\n",
        "train = pd.read_csv('/content/drive/MyDrive/Portfolio/Linear_regression/train.csv')\n",
        "test = pd.read_csv('/content/drive/MyDrive/Portfolio/Linear_regression/test.csv')\n",
        "\n",
        "# Print the first rows\n",
        "print(train.head())\n",
        "print(test.head())"
      ],
      "metadata": {
        "colab": {
          "base_uri": "https://localhost:8080/"
        },
        "id": "H7io1kK8oSlV",
        "outputId": "0d7888fd-c7a1-4d0f-ba7f-61d28b384741"
      },
      "execution_count": 3,
      "outputs": [
        {
          "output_type": "stream",
          "name": "stdout",
          "text": [
            "   id  MedInc  HouseAge  AveRooms  AveBedrms  Population  AveOccup  Latitude  \\\n",
            "0   0  2.3859      15.0  3.827160   1.112100      1280.0  2.486989     34.60   \n",
            "1   1  3.7188      17.0  6.013373   1.054217      1504.0  3.813084     38.69   \n",
            "2   2  4.7750      27.0  6.535604   1.103175      1061.0  2.464602     34.71   \n",
            "3   3  2.4138      16.0  3.350203   0.965432      1255.0  2.089286     32.66   \n",
            "4   4  3.7500      52.0  4.284404   1.069246      1793.0  1.604790     37.80   \n",
            "\n",
            "   Longitude  MedHouseVal  \n",
            "0    -120.12        0.980  \n",
            "1    -121.22        0.946  \n",
            "2    -120.45        1.576  \n",
            "3    -117.09        1.336  \n",
            "4    -122.41        4.500  \n",
            "      id  MedInc  HouseAge  AveRooms  AveBedrms  Population  AveOccup  \\\n",
            "0  37137  1.7062      35.0  4.966368   1.096539      1318.0  2.844411   \n",
            "1  37138  1.3882      22.0  4.187035   1.098229      2296.0  3.180218   \n",
            "2  37139  7.7197      21.0  7.129436   0.959276      1535.0  2.888889   \n",
            "3  37140  4.6806      49.0  4.769697   1.048485       707.0  1.743590   \n",
            "4  37141  3.1284      25.0  3.765306   1.081633      4716.0  2.003827   \n",
            "\n",
            "   Latitude  Longitude  \n",
            "0     39.75    -121.85  \n",
            "1     33.95    -118.29  \n",
            "2     33.61    -117.81  \n",
            "3     34.17    -118.34  \n",
            "4     34.17    -118.29  \n"
          ]
        }
      ]
    },
    {
      "cell_type": "code",
      "source": [
        "# Explore the train set\n",
        "print(\"Train shape:\", train.shape)\n",
        "print(\"Train info:\")\n",
        "print(train.info())\n",
        "print(\"Train data summary statistics:\")\n",
        "print(train.describe())\n"
      ],
      "metadata": {
        "id": "wnS0comMqzqG",
        "colab": {
          "base_uri": "https://localhost:8080/"
        },
        "outputId": "accbe038-9ecb-4571-ca26-26baaf141fdb"
      },
      "execution_count": 4,
      "outputs": [
        {
          "output_type": "stream",
          "name": "stdout",
          "text": [
            "Train shape: (37137, 10)\n",
            "Train info:\n",
            "<class 'pandas.core.frame.DataFrame'>\n",
            "RangeIndex: 37137 entries, 0 to 37136\n",
            "Data columns (total 10 columns):\n",
            " #   Column       Non-Null Count  Dtype  \n",
            "---  ------       --------------  -----  \n",
            " 0   id           37137 non-null  int64  \n",
            " 1   MedInc       37137 non-null  float64\n",
            " 2   HouseAge     37137 non-null  float64\n",
            " 3   AveRooms     37137 non-null  float64\n",
            " 4   AveBedrms    37137 non-null  float64\n",
            " 5   Population   37137 non-null  float64\n",
            " 6   AveOccup     37137 non-null  float64\n",
            " 7   Latitude     37137 non-null  float64\n",
            " 8   Longitude    37137 non-null  float64\n",
            " 9   MedHouseVal  37137 non-null  float64\n",
            "dtypes: float64(9), int64(1)\n",
            "memory usage: 2.8 MB\n",
            "None\n",
            "Train data summary statistics:\n",
            "                id        MedInc      HouseAge      AveRooms     AveBedrms  \\\n",
            "count  37137.00000  37137.000000  37137.000000  37137.000000  37137.000000   \n",
            "mean   18568.00000      3.851029     26.057005      5.163124      1.062204   \n",
            "std    10720.67281      1.803167     12.158221      1.206242      0.096490   \n",
            "min        0.00000      0.499900      2.000000      0.851064      0.500000   \n",
            "25%     9284.00000      2.602300     17.000000      4.357522      1.020305   \n",
            "50%    18568.00000      3.515600     25.000000      5.068611      1.054545   \n",
            "75%    27852.00000      4.699700     35.000000      5.858597      1.088825   \n",
            "max    37136.00000     15.000100     52.000000     28.837607      5.873181   \n",
            "\n",
            "         Population      AveOccup      Latitude     Longitude   MedHouseVal  \n",
            "count  37137.000000  37137.000000  37137.000000  37137.000000  37137.000000  \n",
            "mean    1660.778919      2.831243     35.570030   -119.554329      2.079751  \n",
            "std     1302.469608      2.702413      2.083179      1.974028      1.158571  \n",
            "min        3.000000      0.950000     32.550000   -124.350000      0.149990  \n",
            "25%      952.000000      2.394495     33.930000   -121.800000      1.208000  \n",
            "50%     1383.000000      2.744828     34.190000   -118.450000      1.808000  \n",
            "75%     1856.000000      3.125313     37.700000   -118.020000      2.660000  \n",
            "max    35682.000000    502.990610     41.950000   -114.550000      5.000010  \n"
          ]
        }
      ]
    },
    {
      "cell_type": "code",
      "source": [
        "# Drop the variables I want to exclude from correlation analysis\n",
        "excluded_vars = ['id', 'MedInc', 'Latitude', 'Longitude']\n",
        "correlation_vars = train.drop(excluded_vars, axis=1)\n",
        "\n",
        "# Calculate correlations and plot a cluster heatmap\n",
        "correlations = correlation_vars.corr()\n",
        "\n",
        "# Create a heatmap\n",
        "plt.figure(figsize=(10, 8))\n",
        "sns.heatmap(correlations, annot=True, cmap='coolwarm')\n",
        "plt.title(\"Correlation Heatmap\")\n",
        "plt.show()"
      ],
      "metadata": {
        "id": "Qj-iQj8UvXCz",
        "colab": {
          "base_uri": "https://localhost:8080/",
          "height": 699
        },
        "outputId": "b5e3a372-133a-4cf6-cc81-684e1925c27b"
      },
      "execution_count": 5,
      "outputs": [
        {
          "output_type": "display_data",
          "data": {
            "text/plain": [
              "<Figure size 1000x800 with 2 Axes>"
            ],
            "image/png": "[encoded data removed]"
          },
          "metadata": {}
        }
      ]
    },
    {
      "cell_type": "markdown",
      "source": [
        "No highly correlated factors."
      ],
      "metadata": {
        "id": "U8_xVL_2xIfv"
      }
    },
    {
      "cell_type": "code",
      "source": [
        "# Split the dataset into features (X) and target variable (y)\n",
        "X = train.drop('MedHouseVal', axis=1)\n",
        "y = train['MedHouseVal']\n",
        "\n",
        "# Standardize the features\n",
        "scaler = StandardScaler()\n",
        "X_scaled = scaler.fit_transform(X)\n",
        "\n",
        "# Split the dataset into train and test sets\n",
        "X_train, X_test, y_train, y_test = train_test_split(X_scaled, y, test_size=0.2, random_state=42)\n"
      ],
      "metadata": {
        "id": "uJOyNcCcxMHP"
      },
      "execution_count": null,
      "outputs": []
    },
    {
      "cell_type": "markdown",
      "source": [
        "RIDGE REGRESSION"
      ],
      "metadata": {
        "id": "OVyw-tn53Rtu"
      }
    },
    {
      "cell_type": "code",
      "source": [
        "# Define the parameter grid\n",
        "param_grid = {\n",
        "    'alpha': np.logspace(-4, 4, 100),  # Range of alpha values to explore\n",
        "    'solver': ['auto', 'svd', 'cholesky', 'lsqr', 'sag'],  # Solver options to explore\n",
        "    'max_iter': [100, 500, 1000]  # max_iter values to explore\n",
        "}\n",
        "\n",
        "# Create the Ridge regression model\n",
        "ridge = Ridge()\n",
        "\n",
        "# Create the RandomizedSearchCV object\n",
        "random_search = RandomizedSearchCV(ridge, param_grid, cv=5, n_iter=10, random_state=42)\n",
        "\n",
        "# Fit the model on the training data\n",
        "random_search.fit(X_train, y_train)\n",
        "\n",
        "# Get the best hyperparameters\n",
        "best_alpha = random_search.best_params_['alpha']\n",
        "best_solver = random_search.best_params_['solver']\n",
        "best_max_iter = random_search.best_params_['max_iter']\n",
        "\n",
        "# Print the best hyperparameters\n",
        "print(\"Best alpha:\", best_alpha)\n",
        "print(\"Best solver:\", best_solver)\n",
        "print(\"Best max_iter:\", best_max_iter)\n",
        "\n",
        "# Create a new Ridge model with the best hyperparameters\n",
        "best_ridge = Ridge(alpha=best_alpha, solver=best_solver, max_iter=best_max_iter)\n",
        "\n",
        "# Fit the best model on the training data\n",
        "best_ridge.fit(X_train, y_train)\n",
        "\n",
        "# Predict on the test data\n",
        "y_pred = best_ridge.predict(X_test)\n",
        "\n",
        "# Calculate RMSE\n",
        "rmse_rd = np.sqrt(mean_squared_error(y_test, y_pred))\n",
        "\n",
        "# Calculate R-squared\n",
        "r2_rd = r2_score(y_test, y_pred)\n",
        "\n",
        "# Print RMSE, and R-squared\n",
        "print(\"RMSE:\", rmse_rd)\n",
        "print(\"R-squared:\", r2_rd)"
      ],
      "metadata": {
        "colab": {
          "base_uri": "https://localhost:8080/"
        },
        "id": "9LL1Bzid0AvO",
        "outputId": "c1a1e87e-3a7a-4e09-fcd5-311b8d49608d"
      },
      "execution_count": null,
      "outputs": [
        {
          "output_type": "stream",
          "name": "stdout",
          "text": [
            "Best alpha: 6892.61210434971\n",
            "Best solver: sag\n",
            "Best max_iter: 100\n",
            "RMSE: 0.8064996580918616\n",
            "R-squared: 0.5215520994464096\n"
          ]
        }
      ]
    },
    {
      "cell_type": "markdown",
      "source": [
        "LASSO REGRESSION"
      ],
      "metadata": {
        "id": "tVuJwhPX3Qjn"
      }
    },
    {
      "cell_type": "code",
      "source": [
        "# Define the parameter grid\n",
        "param_grid = {\n",
        "    'alpha': np.logspace(-4, 4, 100)  # Range of alpha values to explore\n",
        "}\n",
        "\n",
        "# Create the Lasso regression model\n",
        "lasso = Lasso()\n",
        "\n",
        "# Create the RandomizedSearchCV object\n",
        "random_search = RandomizedSearchCV(lasso, param_grid, cv=5, n_iter=10, random_state=42)\n",
        "\n",
        "# Fit the model on the training data\n",
        "random_search.fit(X_train, y_train)\n",
        "\n",
        "# Get the best hyperparameters\n",
        "best_alpha = random_search.best_params_['alpha']\n",
        "print(\"Best alpha:\", best_alpha)\n",
        "\n",
        "# Create a new Lasso model with the best hyperparameters\n",
        "best_lasso = Lasso(alpha=best_alpha)\n",
        "\n",
        "# Fit the best model on the training data\n",
        "best_lasso.fit(X_train, y_train)\n",
        "\n",
        "# Predict on the test data\n",
        "y_pred = best_lasso.predict(X_test)\n",
        "\n",
        "# Calculate RMSE\n",
        "rmse_ls = np.sqrt(mean_squared_error(y_test, y_pred))\n",
        "\n",
        "# Calculate R-squared\n",
        "r2_ls = r2_score(y_test, y_pred)\n",
        "\n",
        "# Print RMSE, and R-squared\n",
        "\n",
        "print(\"RMSE:\", rmse_ls)\n",
        "print(\"R-squared:\", r2_ls)\n"
      ],
      "metadata": {
        "colab": {
          "base_uri": "https://localhost:8080/"
        },
        "id": "wbpL51Bw3GgV",
        "outputId": "34c815a3-659d-475d-ca18-44362b8eb237"
      },
      "execution_count": null,
      "outputs": [
        {
          "output_type": "stream",
          "name": "stdout",
          "text": [
            "Best alpha: 0.14174741629268062\n",
            "RMSE: 0.8478775349836793\n",
            "R-squared: 0.47119867453317654\n"
          ]
        }
      ]
    },
    {
      "cell_type": "markdown",
      "source": [
        "GRADIENT BOOSTING"
      ],
      "metadata": {
        "id": "4L3b8Mjs33E_"
      }
    },
    {
      "cell_type": "code",
      "source": [
        "# Define the parameter grid\n",
        "param_grid_gb = {\n",
        "    'n_estimators': [100, 200, 300],  # Number of trees in the gradient boosting ensemble\n",
        "    'learning_rate': [0.05, 0.1, 0.2],  # Learning rate for each tree\n",
        "    'max_depth': [3, 5, 7]  # Maximum depth of each tree\n",
        "}\n",
        "\n",
        "# Create the model\n",
        "gb = GradientBoostingRegressor()\n",
        "\n",
        "# Create the RandomizedSearchCV object\n",
        "random_search_gb = RandomizedSearchCV(gb, param_grid_gb, cv=5, n_iter=5, random_state=42)\n",
        "\n",
        "# Fit the model on the training data\n",
        "random_search_gb.fit(X_train, y_train)\n",
        "\n",
        "# Get the best models\n",
        "best_gb = random_search_gb.best_estimator_\n",
        "\n",
        "# Predict on the test data\n",
        "y_pred_gb = best_gb.predict(X_test)\n",
        "\n",
        "# Calculate RMSE\n",
        "rmse_gb = np.sqrt(mean_squared_error(y_test, y_pred_gb))\n",
        "\n",
        "# Calculate R-squared\n",
        "r2_gb = r2_score(y_test, y_pred_gb)\n",
        "\n",
        "# Print the RMSE and R-squared values for the model\n",
        "print(\"Gradient Boosting:\")\n",
        "print(\"RMSE:\", rmse_gb)\n",
        "print(\"R-squared:\", r2_gb)\n"
      ],
      "metadata": {
        "colab": {
          "base_uri": "https://localhost:8080/"
        },
        "id": "U8HtsJzj4_xR",
        "outputId": "e5451476-c392-46b7-b8f1-99fd51b4dcd0"
      },
      "execution_count": null,
      "outputs": [
        {
          "output_type": "stream",
          "name": "stdout",
          "text": [
            "Gradient Boosting:\n",
            "RMSE: 0.5940471202619811\n",
            "R-squared: 0.7404218889037657\n"
          ]
        }
      ]
    },
    {
      "cell_type": "markdown",
      "source": [
        "RANDOM FOREST"
      ],
      "metadata": {
        "id": "8jwIGiLt56Pc"
      }
    },
    {
      "cell_type": "code",
      "source": [
        "# Define the parameter grid\n",
        "param_grid_rf = {\n",
        "    'n_estimators': [100, 200, 300],  # Number of trees in the random forest ensemble\n",
        "    'max_depth': [3, 5, 7],  # Maximum depth of each tree\n",
        "    'min_samples_split': [2, 4, 6]  # Minimum number of samples required to split a node\n",
        "}\n",
        "\n",
        "# Create the model\n",
        "rf = RandomForestRegressor()\n",
        "\n",
        "# Create the RandomizedSearchCV object\n",
        "random_search_rf = RandomizedSearchCV(rf, param_grid_rf, cv=5, n_iter=5, random_state=42)\n",
        "\n",
        "# Fit the model on the training data\n",
        "random_search_rf.fit(X_train, y_train)\n",
        "\n",
        "# Get the best model\n",
        "best_rf = random_search_rf.best_estimator_\n",
        "\n",
        "# Predict on the test data\n",
        "y_pred_rf = best_rf.predict(X_test)\n",
        "\n",
        "# Calculate RMSE\n",
        "rmse_rf = np.sqrt(mean_squared_error(y_test, y_pred_rf))\n",
        "\n",
        "# Calculate R-squared\n",
        "r2_rf = r2_score(y_test, y_pred_rf)\n",
        "\n",
        "# Print the RMSE and R-squared values for the model\n",
        "print(\"Random Forest:\")\n",
        "print(\"RMSE:\", rmse_rf)\n",
        "print(\"R-squared:\", r2_rf)\n"
      ],
      "metadata": {
        "colab": {
          "base_uri": "https://localhost:8080/"
        },
        "id": "KkASfiAy6DXc",
        "outputId": "965f2c58-5623-4311-c324-7ac1b6de42cb"
      },
      "execution_count": null,
      "outputs": [
        {
          "output_type": "stream",
          "name": "stdout",
          "text": [
            "Random Forest:\n",
            "RMSE: 0.6707046062951166\n",
            "R-squared: 0.6691060276291654\n"
          ]
        }
      ]
    },
    {
      "cell_type": "markdown",
      "source": [
        "SUPPORT VECTOR MACHINE"
      ],
      "metadata": {
        "id": "eP3hYNDX67qd"
      }
    },
    {
      "cell_type": "code",
      "source": [
        "\n",
        "# Define the parameter grid\n",
        "param_grid_svm = {\n",
        "    'C': [0.1, 1, 10],  # Regularization parameter\n",
        "    'kernel': ['linear', 'rbf'],  # Kernel type\n",
        "    'gamma': ['scale', 'auto']  # Kernel coefficient for 'rbf' kernel\n",
        "}\n",
        "\n",
        "# Create the models\n",
        "svm = SVR()\n",
        "\n",
        "# Create the RandomizedSearchCV object\n",
        "random_search_svm = RandomizedSearchCV(svm, param_grid_svm, cv=5, n_iter=5, random_state=42)\n",
        "\n",
        "# Fit the model on the training data\n",
        "random_search_svm.fit(X_train, y_train)\n",
        "\n",
        "# Get the best models\n",
        "best_svm = random_search_svm.best_estimator_\n",
        "\n",
        "\n",
        "# Predict on the test data\n",
        "y_pred_svm = best_svm.predict(X_test)\n",
        "\n",
        "# Calculate RMSE\n",
        "rmse_svm = np.sqrt(mean_squared_error(y_test, y_pred_rf))\n",
        "\n",
        "# Calculate R-squared\n",
        "r2_svm = r2_score(y_test, y_pred_rf)\n",
        "\n",
        "# Print the RMSE and R-squared values for the model\n",
        "print(\"Support Vector Machine:\")\n",
        "print(\"RMSE:\", rmse_svm)\n",
        "print(\"R-squared:\", r2_svm)\n"
      ],
      "metadata": {
        "colab": {
          "base_uri": "https://localhost:8080/"
        },
        "id": "3r-8w96T7D7n",
        "outputId": "a0ee1cb2-e82c-44a4-bc9c-122badface76"
      },
      "execution_count": null,
      "outputs": [
        {
          "output_type": "stream",
          "name": "stdout",
          "text": [
            "Support Vector Machine:\n",
            "RMSE: 0.6707046062951166\n",
            "R-squared: 0.6691060276291654\n"
          ]
        }
      ]
    },
    {
      "cell_type": "markdown",
      "source": [
        "NEURAL NETWORKS"
      ],
      "metadata": {
        "id": "XJJ-Ctpk8C93"
      }
    },
    {
      "cell_type": "code",
      "source": [
        "\n",
        "param_grid_nn = {\n",
        "    'hidden_layer_sizes': [(50,), (100,), (50, 50)],  # Number of neurons in each hidden layer\n",
        "    'activation': ['relu', 'tanh'],  # Activation function\n",
        "    'alpha': [0.0001, 0.001, 0.01]  # Regularization parameter\n",
        "}\n",
        "\n",
        "# Create the models\n",
        "nn = MLPRegressor()\n",
        "\n",
        "# Create the RandomizedSearchCV object\n",
        "random_search_nn = RandomizedSearchCV(svm, param_grid_svm, cv=5, n_iter=5, random_state=42)\n",
        "\n",
        "# Fit the model on the training data\n",
        "random_search_nn.fit(X_train, y_train)\n",
        "\n",
        "# Get the best models\n",
        "best_nn = random_search_nn.best_estimator_\n",
        "\n",
        "\n",
        "# Predict on the test data\n",
        "y_pred_nn = best_nn.predict(X_test)\n",
        "\n",
        "# Calculate RMSE\n",
        "rmse_nn = np.sqrt(mean_squared_error(y_test, y_pred_rf))\n",
        "\n",
        "# Calculate R-squared\n",
        "r2_nn = r2_score(y_test, y_pred_rf)\n",
        "\n",
        "# Print the RMSE and R-squared values for the model\n",
        "print(\"Neural Network:\")\n",
        "print(\"RMSE:\", rmse_nn)\n",
        "print(\"R-squared:\", r2_nn)"
      ],
      "metadata": {
        "colab": {
          "base_uri": "https://localhost:8080/"
        },
        "id": "W3VvkVfY8Hav",
        "outputId": "e4c776bd-791e-4c7d-9dd5-55cab792a955"
      },
      "execution_count": null,
      "outputs": [
        {
          "output_type": "stream",
          "name": "stdout",
          "text": [
            "Neural Network:\n",
            "RMSE: 0.6707046062951166\n",
            "R-squared: 0.6691060276291654\n"
          ]
        }
      ]
    },
    {
      "cell_type": "markdown",
      "source": [
        "RESULTS TABLE"
      ],
      "metadata": {
        "id": "jYzjZNBr9t1L"
      }
    },
    {
      "cell_type": "code",
      "source": [
        "# Create a DataFrame to display the results\n",
        "results = pd.DataFrame({\n",
        "    'Model': ['Ridge', 'Lasso', 'Gradient Boosting', 'Random Forest', 'Support Vector Machine', 'Neural Networks'],\n",
        "    'RMSE': [rmse_rd, rmse_ls, rmse_gb, rmse_rf, rmse_svm, rmse_nn],\n",
        "    'R-squared': [r2_rd, r2_ls, r2_gb, r2_rf, r2_svm, r2_nn]\n",
        "})\n",
        "\n",
        "# Display the results table\n",
        "print(results)"
      ],
      "metadata": {
        "colab": {
          "base_uri": "https://localhost:8080/"
        },
        "id": "aIaXrLw99wJD",
        "outputId": "9bc567a4-384d-48b6-c51b-89d438db9b32"
      },
      "execution_count": null,
      "outputs": [
        {
          "output_type": "stream",
          "name": "stdout",
          "text": [
            "                    Model      RMSE  R-squared\n",
            "0                   Ridge  0.806500   0.521552\n",
            "1                   Lasso  0.847878   0.471199\n",
            "2       Gradient Boosting  0.594047   0.740422\n",
            "3           Random Forest  0.670705   0.669106\n",
            "4  Support Vector Machine  0.670705   0.669106\n",
            "5         Neural Networks  0.670705   0.669106\n"
          ]
        }
      ]
    },
    {
      "cell_type": "markdown",
      "source": [
        "Summary and Analysis\n",
        "\n",
        "Ridge and Lasso Regression:\n",
        "\n",
        "Ridge and Lasso regression models perform moderately well on the dataset. They achieve similar levels of RMSE, indicating a reasonable level of accuracy.\n",
        "However, both models have relatively lower R-squared values, suggesting that they explain a limited portion of the variance in the target variable.\n",
        "Gradient Boosting:\n",
        "\n",
        "The Gradient Boosting model demonstrates the best performance among all the models evaluated. It achieves the lowest RMSE and highest R-squared values.\n",
        "The low RMSE implies that the model provides accurate predictions with relatively small errors.\n",
        "The high R-squared indicates that the model explains a significant portion of the variability in the target variable.\n",
        "Random Forest, Support Vector Machine, and Neural Networks:\n",
        "\n",
        "Random Forest, Support Vector Machine, and Neural Networks models exhibit comparable performance, with similar RMSE and R-squared values.\n",
        "These models provide reasonably accurate predictions and explain a moderate level of variability in the target variable.\n",
        "Conclusion\n",
        "\n",
        "Based on the evaluation of these regression models, it can be concluded that Gradient Boosting outperforms the other models in terms of both RMSE and R-squared. It demonstrates the highest accuracy and explains a substantial portion of the variance in the target variable. However, the other models, such as Random Forest, Support Vector Machine, and Neural Networks, also provide reasonably accurate predictions.\n",
        "\n",
        "Further analysis and fine-tuning of the models can be conducted to improve their performance. Additionally, exploring feature engineering techniques, adjusting hyperparameters, or considering ensemble approaches may lead to enhanced model results.\n",
        "\n",
        "It is recommended to select the Gradient Boosting model as the primary choice due to its superior performance, but further investigation should be conducted to understand the specific requirements and constraints of the problem at hand.\n"
      ],
      "metadata": {
        "id": "psVuoEr2kxG8"
      }
    },
    {
      "cell_type": "markdown",
      "source": [
        "Using Gradient Boosting in test data"
      ],
      "metadata": {
        "id": "VF7-t4hrldL1"
      }
    },
    {
      "cell_type": "code",
      "source": [
        "# Standardize the features\n",
        "scaler = StandardScaler()\n",
        "test_scaled = scaler.fit_transform(test)\n",
        "\n",
        "test_pred_gb = best_gb.predict(test)\n",
        "\n",
        "submission = pd.DataFrame({'id': test['id'], 'SalePrice': test_pred_gb})\n",
        "\n",
        "# Specify the file path in Google Drive\n",
        "file_path = '/content/drive/MyDrive/Portfolio/Linear_regression/predictions.csv'\n",
        "\n",
        "# Save the DataFrame as a CSV file\n",
        "submission.to_csv(file_path, index=False)\n"
      ],
      "metadata": {
        "colab": {
          "base_uri": "https://localhost:8080/"
        },
        "id": "UUqgO8HFleBd",
        "outputId": "b7679809-4d0f-491c-d139-d06af89aff5e"
      },
      "execution_count": null,
      "outputs": [
        {
          "output_type": "stream",
          "name": "stderr",
          "text": [
            "/usr/local/lib/python3.10/dist-packages/sklearn/base.py:432: UserWarning: X has feature names, but GradientBoostingRegressor was fitted without feature names\n",
            "  warnings.warn(\n"
          ]
        }
      ]
    }
  ]
}